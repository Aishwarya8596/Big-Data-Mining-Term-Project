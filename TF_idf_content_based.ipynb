{
 "cells": [
  {
   "cell_type": "code",
   "execution_count": 1,
   "metadata": {},
   "outputs": [],
   "source": [
    "import pandas as pd\n",
    "import pandas as pd\n",
    "import numpy as np\n",
    "import matplotlib.pyplot as plt\n",
    "import seaborn as sns\n",
    "\n",
    "from sklearn.cluster import KMeans\n",
    "from sklearn.metrics.pairwise import cosine_similarity\n"
   ]
  },
  {
   "cell_type": "code",
   "execution_count": 2,
   "metadata": {},
   "outputs": [],
   "source": [
    "df=pd.read_csv('clothing.csv')"
   ]
  },
  {
   "cell_type": "code",
   "execution_count": 3,
   "metadata": {},
   "outputs": [],
   "source": [
    "# Scale rating feature to make its range between 0-5\n",
    "df['rating'] = df['rating']/2"
   ]
  },
  {
   "cell_type": "code",
   "execution_count": 4,
   "metadata": {},
   "outputs": [
    {
     "data": {
      "text/plain": [
       "0         1\n",
       "1         1\n",
       "2         1\n",
       "3         1\n",
       "4         1\n",
       "         ..\n",
       "192539    1\n",
       "192540    1\n",
       "192541    1\n",
       "192542    1\n",
       "192543    1\n",
       "Name: class_rating, Length: 192544, dtype: int64"
      ]
     },
     "execution_count": 4,
     "metadata": {},
     "output_type": "execute_result"
    }
   ],
   "source": [
    "# Add new feature which has binary rating i.e either positive or negative \n",
    "# Categorise as 1 if rating is either 5 or 4 and rented item is not small or large in size\n",
    "rating_to_binary = (df[\"rating\"] == 5.0) | (df[\"rating\"] == 4.0) | (df[\"rating\"] == 3.0) & (df[\"fit\"] == \"fit\")\n",
    "rating_to_binary \n",
    "df[\"class_rating\"] = np.where(rating_to_binary == True, 1, 0)\n",
    "df[\"class_rating\"]"
   ]
  },
  {
   "cell_type": "code",
   "execution_count": 5,
   "metadata": {},
   "outputs": [],
   "source": [
    "# Compressing records by considering the items which has more than 4 ratings and users who purchased more than 5 items\n",
    "# Or give rating to more than 5 items\n",
    "\n",
    "\n",
    "# including items with more than 4 ratings\n",
    "itemRat_count = pd.DataFrame(df.groupby(\"item_id\")[\"rating\"].count())\n",
    "itemRat_count = itemRat_count.loc[(itemRat_count[\"rating\"] > 4)]\n",
    "itemRat_count.reset_index(inplace=True)\n",
    "#print('itemRat_count')\n",
    "clothingRed = df[df[\"item_id\"].isin(itemRat_count[\"item_id\"])]\n",
    "#print(clothingRed)"
   ]
  },
  {
   "cell_type": "code",
   "execution_count": 6,
   "metadata": {},
   "outputs": [],
   "source": [
    "# including users with more than 4 purchases\n",
    "userRat_count = pd.DataFrame(clothingRed.groupby(\"user_id\")[\"rating\"].count())\n",
    "userRat_count = userRat_count.loc[(userRat_count.rating > 5)]\n",
    "userRat_count.reset_index(inplace=True)\n",
    "userRat_count.drop(\"rating\", axis=1, inplace=True)\n",
    "clothingRed = clothingRed[clothingRed[\"user_id\"].isin(userRat_count[\"user_id\"])]\n",
    "clothingRed.reset_index(inplace=True, drop=True)"
   ]
  },
  {
   "cell_type": "code",
   "execution_count": 7,
   "metadata": {},
   "outputs": [
    {
     "name": "stdout",
     "output_type": "stream",
     "text": [
      "(32272, 16)\n",
      "(8069, 16)\n"
     ]
    }
   ],
   "source": [
    "from sklearn.model_selection import train_test_split\n",
    "\n",
    "# In train_test_split, user_id is stratified so same user id appears in the both the training and test test\n",
    "\n",
    "clothing_train, clothing_test = train_test_split(clothingRed, stratify=clothingRed[\"user_id\"],test_size=.2, random_state=1017)\n",
    "print(clothing_train.shape)\n",
    "print(clothing_test.shape)"
   ]
  },
  {
   "cell_type": "code",
   "execution_count": 20,
   "metadata": {
    "collapsed": true
   },
   "outputs": [
    {
     "data": {
      "text/plain": [
       "user_id\n",
       "990235    3\n",
       "990369    2\n",
       "990405    2\n",
       "990544    2\n",
       "990625    1\n",
       "990657    3\n",
       "991099    3\n",
       "991579    2\n",
       "991702    3\n",
       "991757    2\n",
       "991902    1\n",
       "991993    1\n",
       "992004    1\n",
       "992421    1\n",
       "992560    1\n",
       "992663    1\n",
       "993019    1\n",
       "993059    3\n",
       "993344    1\n",
       "993433    3\n",
       "993618    1\n",
       "993966    1\n",
       "994205    1\n",
       "994398    5\n",
       "994448    2\n",
       "994525    2\n",
       "994767    1\n",
       "994906    2\n",
       "994907    3\n",
       "995029    1\n",
       "995412    5\n",
       "995591    1\n",
       "995826    8\n",
       "995929    1\n",
       "996183    2\n",
       "996512    4\n",
       "996592    1\n",
       "997058    1\n",
       "997189    2\n",
       "997237    2\n",
       "997360    3\n",
       "998194    3\n",
       "998267    1\n",
       "998563    3\n",
       "998780    1\n",
       "998923    1\n",
       "999183    2\n",
       "999231    4\n",
       "999274    1\n",
       "999431    2\n",
       "Name: rating, dtype: int64"
      ]
     },
     "execution_count": 20,
     "metadata": {},
     "output_type": "execute_result"
    }
   ],
   "source": [
    "clothing_test.groupby('user_id')['rating'].count().tail(50)"
   ]
  },
  {
   "cell_type": "markdown",
   "metadata": {},
   "source": [
    "# Content based recommendation using TF-IDF"
   ]
  },
  {
   "cell_type": "code",
   "execution_count": 9,
   "metadata": {},
   "outputs": [
    {
     "name": "stderr",
     "output_type": "stream",
     "text": [
      "[nltk_data] Downloading package stopwords to\n",
      "[nltk_data]     /Users/swapnilshevate/nltk_data...\n",
      "[nltk_data]   Package stopwords is already up-to-date!\n"
     ]
    }
   ],
   "source": [
    "import nltk\n",
    "nltk.download('stopwords')\n",
    "from nltk.corpus import stopwords\n",
    "from sklearn.feature_extraction.text import TfidfVectorizer\n",
    "\n",
    "# Remove useless words \n",
    "# Ref: https://towardsdatascience.com/content-based-recommender-systems-28a1dbd858f5\n",
    "# Ref: https://github.com/ariellem2/Fit_Predictions_and_Recommendations/blob/master/Rent_the_Runway_Recommender.ipynb\n",
    "stop_words = stopwords.words(\"english\")"
   ]
  },
  {
   "cell_type": "code",
   "execution_count": 10,
   "metadata": {},
   "outputs": [],
   "source": [
    "# Add new column which has  the text data such as category, review summary, review text\n",
    "# Using this since in the dataset there is no meta data given for items\n",
    "# Hence creating meta data extracting most of the text data from features \n",
    "\n",
    "df[\"item_review_text\"] = (df[\"category\"] + \" \" + df[\"review_summary\"] + \" \" + df[\"review_text\"]).str.lower()\n",
    "df[\"item_review_text\"] = df[\"item_review_text\"].astype(str)\n",
    "df[\"item_review_text\"]= df[\"item_review_text\"].apply(lambda x: \" \".join([word for word in x.split() if word not in (stop_words)]))\n"
   ]
  },
  {
   "cell_type": "code",
   "execution_count": 11,
   "metadata": {},
   "outputs": [
    {
     "data": {
      "text/html": [
       "<div>\n",
       "<style scoped>\n",
       "    .dataframe tbody tr th:only-of-type {\n",
       "        vertical-align: middle;\n",
       "    }\n",
       "\n",
       "    .dataframe tbody tr th {\n",
       "        vertical-align: top;\n",
       "    }\n",
       "\n",
       "    .dataframe thead th {\n",
       "        text-align: right;\n",
       "    }\n",
       "</style>\n",
       "<table border=\"1\" class=\"dataframe\">\n",
       "  <thead>\n",
       "    <tr style=\"text-align: right;\">\n",
       "      <th></th>\n",
       "      <th>item_id</th>\n",
       "      <th>item_review_text</th>\n",
       "    </tr>\n",
       "  </thead>\n",
       "  <tbody>\n",
       "    <tr>\n",
       "      <th>192539</th>\n",
       "      <td>2252812</td>\n",
       "      <td>jumpsuit love it!!! first item im thinking buy...</td>\n",
       "    </tr>\n",
       "    <tr>\n",
       "      <th>192540</th>\n",
       "      <td>682043</td>\n",
       "      <td>dress love it! pattern contrast dress really s...</td>\n",
       "    </tr>\n",
       "    <tr>\n",
       "      <th>192541</th>\n",
       "      <td>683251</td>\n",
       "      <td>dress loud patterning, flattering fit like dvf...</td>\n",
       "    </tr>\n",
       "    <tr>\n",
       "      <th>192542</th>\n",
       "      <td>126335</td>\n",
       "      <td>dress loved dress comfortable photographed ama...</td>\n",
       "    </tr>\n",
       "    <tr>\n",
       "      <th>192543</th>\n",
       "      <td>127865</td>\n",
       "      <td>gown wore beautiful black tie optional wedding...</td>\n",
       "    </tr>\n",
       "  </tbody>\n",
       "</table>\n",
       "</div>"
      ],
      "text/plain": [
       "        item_id                                   item_review_text\n",
       "192539  2252812  jumpsuit love it!!! first item im thinking buy...\n",
       "192540   682043  dress love it! pattern contrast dress really s...\n",
       "192541   683251  dress loud patterning, flattering fit like dvf...\n",
       "192542   126335  dress loved dress comfortable photographed ama...\n",
       "192543   127865  gown wore beautiful black tie optional wedding..."
      ]
     },
     "execution_count": 11,
     "metadata": {},
     "output_type": "execute_result"
    }
   ],
   "source": [
    "df[[\"item_id\", \"item_review_text\"]].tail()"
   ]
  },
  {
   "cell_type": "code",
   "execution_count": 12,
   "metadata": {},
   "outputs": [
    {
     "data": {
      "text/html": [
       "<div>\n",
       "<style scoped>\n",
       "    .dataframe tbody tr th:only-of-type {\n",
       "        vertical-align: middle;\n",
       "    }\n",
       "\n",
       "    .dataframe tbody tr th {\n",
       "        vertical-align: top;\n",
       "    }\n",
       "\n",
       "    .dataframe thead th {\n",
       "        text-align: right;\n",
       "    }\n",
       "</style>\n",
       "<table border=\"1\" class=\"dataframe\">\n",
       "  <thead>\n",
       "    <tr style=\"text-align: right;\">\n",
       "      <th></th>\n",
       "      <th>item_review_text</th>\n",
       "    </tr>\n",
       "    <tr>\n",
       "      <th>item_id</th>\n",
       "      <th></th>\n",
       "    </tr>\n",
       "  </thead>\n",
       "  <tbody>\n",
       "    <tr>\n",
       "      <th>123373</th>\n",
       "      <td>gown beautiful black tie wedding dress beautif...</td>\n",
       "    </tr>\n",
       "    <tr>\n",
       "      <th>123793</th>\n",
       "      <td>gown stunning gown. wore heart ball received c...</td>\n",
       "    </tr>\n",
       "    <tr>\n",
       "      <th>124204</th>\n",
       "      <td>dress opened rtr box saw sequins, swear heart ...</td>\n",
       "    </tr>\n",
       "    <tr>\n",
       "      <th>124553</th>\n",
       "      <td>dress lovely wedding guest dress loved dress. ...</td>\n",
       "    </tr>\n",
       "    <tr>\n",
       "      <th>125424</th>\n",
       "      <td>dress wore rehearsal dinner. classy. dress arr...</td>\n",
       "    </tr>\n",
       "  </tbody>\n",
       "</table>\n",
       "</div>"
      ],
      "text/plain": [
       "                                          item_review_text\n",
       "item_id                                                   \n",
       "123373   gown beautiful black tie wedding dress beautif...\n",
       "123793   gown stunning gown. wore heart ball received c...\n",
       "124204   dress opened rtr box saw sequins, swear heart ...\n",
       "124553   dress lovely wedding guest dress loved dress. ...\n",
       "125424   dress wore rehearsal dinner. classy. dress arr..."
      ]
     },
     "execution_count": 12,
     "metadata": {},
     "output_type": "execute_result"
    }
   ],
   "source": [
    "agg_item_text = pd.DataFrame(df.groupby(\"item_id\")[\"item_review_text\"].sum())\n",
    "agg_item_text.head()"
   ]
  },
  {
   "cell_type": "code",
   "execution_count": 13,
   "metadata": {},
   "outputs": [
    {
     "data": {
      "text/html": [
       "<div>\n",
       "<style scoped>\n",
       "    .dataframe tbody tr th:only-of-type {\n",
       "        vertical-align: middle;\n",
       "    }\n",
       "\n",
       "    .dataframe tbody tr th {\n",
       "        vertical-align: top;\n",
       "    }\n",
       "\n",
       "    .dataframe thead th {\n",
       "        text-align: right;\n",
       "    }\n",
       "</style>\n",
       "<table border=\"1\" class=\"dataframe\">\n",
       "  <thead>\n",
       "    <tr style=\"text-align: right;\">\n",
       "      <th>item_id</th>\n",
       "      <th>123373</th>\n",
       "      <th>123793</th>\n",
       "      <th>124204</th>\n",
       "      <th>124553</th>\n",
       "      <th>125424</th>\n",
       "      <th>125465</th>\n",
       "      <th>125564</th>\n",
       "      <th>126335</th>\n",
       "      <th>127081</th>\n",
       "      <th>127495</th>\n",
       "      <th>...</th>\n",
       "      <th>2960969</th>\n",
       "      <th>2961855</th>\n",
       "      <th>2962646</th>\n",
       "      <th>2963344</th>\n",
       "      <th>2963601</th>\n",
       "      <th>2963850</th>\n",
       "      <th>2964470</th>\n",
       "      <th>2965009</th>\n",
       "      <th>2965924</th>\n",
       "      <th>2966087</th>\n",
       "    </tr>\n",
       "    <tr>\n",
       "      <th>item_id</th>\n",
       "      <th></th>\n",
       "      <th></th>\n",
       "      <th></th>\n",
       "      <th></th>\n",
       "      <th></th>\n",
       "      <th></th>\n",
       "      <th></th>\n",
       "      <th></th>\n",
       "      <th></th>\n",
       "      <th></th>\n",
       "      <th></th>\n",
       "      <th></th>\n",
       "      <th></th>\n",
       "      <th></th>\n",
       "      <th></th>\n",
       "      <th></th>\n",
       "      <th></th>\n",
       "      <th></th>\n",
       "      <th></th>\n",
       "      <th></th>\n",
       "      <th></th>\n",
       "    </tr>\n",
       "  </thead>\n",
       "  <tbody>\n",
       "    <tr>\n",
       "      <th>123373</th>\n",
       "      <td>1.000000</td>\n",
       "      <td>0.920049</td>\n",
       "      <td>0.646582</td>\n",
       "      <td>0.683497</td>\n",
       "      <td>0.679712</td>\n",
       "      <td>0.920857</td>\n",
       "      <td>0.939897</td>\n",
       "      <td>0.681005</td>\n",
       "      <td>0.877858</td>\n",
       "      <td>0.685035</td>\n",
       "      <td>...</td>\n",
       "      <td>0.199865</td>\n",
       "      <td>0.038458</td>\n",
       "      <td>0.129807</td>\n",
       "      <td>0.116882</td>\n",
       "      <td>0.039445</td>\n",
       "      <td>0.133218</td>\n",
       "      <td>0.151984</td>\n",
       "      <td>0.060291</td>\n",
       "      <td>0.102984</td>\n",
       "      <td>0.170247</td>\n",
       "    </tr>\n",
       "    <tr>\n",
       "      <th>123793</th>\n",
       "      <td>0.920049</td>\n",
       "      <td>1.000000</td>\n",
       "      <td>0.712092</td>\n",
       "      <td>0.696588</td>\n",
       "      <td>0.689520</td>\n",
       "      <td>0.935512</td>\n",
       "      <td>0.935278</td>\n",
       "      <td>0.751240</td>\n",
       "      <td>0.889452</td>\n",
       "      <td>0.675245</td>\n",
       "      <td>...</td>\n",
       "      <td>0.184193</td>\n",
       "      <td>0.037216</td>\n",
       "      <td>0.134070</td>\n",
       "      <td>0.118367</td>\n",
       "      <td>0.031789</td>\n",
       "      <td>0.124774</td>\n",
       "      <td>0.135332</td>\n",
       "      <td>0.062114</td>\n",
       "      <td>0.094801</td>\n",
       "      <td>0.177672</td>\n",
       "    </tr>\n",
       "    <tr>\n",
       "      <th>124204</th>\n",
       "      <td>0.646582</td>\n",
       "      <td>0.712092</td>\n",
       "      <td>1.000000</td>\n",
       "      <td>0.852282</td>\n",
       "      <td>0.844124</td>\n",
       "      <td>0.651073</td>\n",
       "      <td>0.655472</td>\n",
       "      <td>0.930405</td>\n",
       "      <td>0.634690</td>\n",
       "      <td>0.866898</td>\n",
       "      <td>...</td>\n",
       "      <td>0.196270</td>\n",
       "      <td>0.035105</td>\n",
       "      <td>0.138122</td>\n",
       "      <td>0.144895</td>\n",
       "      <td>0.038251</td>\n",
       "      <td>0.129289</td>\n",
       "      <td>0.160755</td>\n",
       "      <td>0.063575</td>\n",
       "      <td>0.089681</td>\n",
       "      <td>0.127207</td>\n",
       "    </tr>\n",
       "    <tr>\n",
       "      <th>124553</th>\n",
       "      <td>0.683497</td>\n",
       "      <td>0.696588</td>\n",
       "      <td>0.852282</td>\n",
       "      <td>1.000000</td>\n",
       "      <td>0.923627</td>\n",
       "      <td>0.711417</td>\n",
       "      <td>0.687588</td>\n",
       "      <td>0.885807</td>\n",
       "      <td>0.666405</td>\n",
       "      <td>0.886473</td>\n",
       "      <td>...</td>\n",
       "      <td>0.240113</td>\n",
       "      <td>0.045744</td>\n",
       "      <td>0.158160</td>\n",
       "      <td>0.154095</td>\n",
       "      <td>0.058190</td>\n",
       "      <td>0.154087</td>\n",
       "      <td>0.185648</td>\n",
       "      <td>0.061639</td>\n",
       "      <td>0.114007</td>\n",
       "      <td>0.143805</td>\n",
       "    </tr>\n",
       "    <tr>\n",
       "      <th>125424</th>\n",
       "      <td>0.679712</td>\n",
       "      <td>0.689520</td>\n",
       "      <td>0.844124</td>\n",
       "      <td>0.923627</td>\n",
       "      <td>1.000000</td>\n",
       "      <td>0.676221</td>\n",
       "      <td>0.686581</td>\n",
       "      <td>0.876664</td>\n",
       "      <td>0.658333</td>\n",
       "      <td>0.875506</td>\n",
       "      <td>...</td>\n",
       "      <td>0.241356</td>\n",
       "      <td>0.049377</td>\n",
       "      <td>0.171951</td>\n",
       "      <td>0.152510</td>\n",
       "      <td>0.054273</td>\n",
       "      <td>0.152740</td>\n",
       "      <td>0.182974</td>\n",
       "      <td>0.061219</td>\n",
       "      <td>0.120921</td>\n",
       "      <td>0.140214</td>\n",
       "    </tr>\n",
       "  </tbody>\n",
       "</table>\n",
       "<p>5 rows × 5850 columns</p>\n",
       "</div>"
      ],
      "text/plain": [
       "item_id   123373    123793    124204    124553    125424    125465    125564   \\\n",
       "item_id                                                                         \n",
       "123373   1.000000  0.920049  0.646582  0.683497  0.679712  0.920857  0.939897   \n",
       "123793   0.920049  1.000000  0.712092  0.696588  0.689520  0.935512  0.935278   \n",
       "124204   0.646582  0.712092  1.000000  0.852282  0.844124  0.651073  0.655472   \n",
       "124553   0.683497  0.696588  0.852282  1.000000  0.923627  0.711417  0.687588   \n",
       "125424   0.679712  0.689520  0.844124  0.923627  1.000000  0.676221  0.686581   \n",
       "\n",
       "item_id   126335    127081    127495   ...   2960969   2961855   2962646  \\\n",
       "item_id                                ...                                 \n",
       "123373   0.681005  0.877858  0.685035  ...  0.199865  0.038458  0.129807   \n",
       "123793   0.751240  0.889452  0.675245  ...  0.184193  0.037216  0.134070   \n",
       "124204   0.930405  0.634690  0.866898  ...  0.196270  0.035105  0.138122   \n",
       "124553   0.885807  0.666405  0.886473  ...  0.240113  0.045744  0.158160   \n",
       "125424   0.876664  0.658333  0.875506  ...  0.241356  0.049377  0.171951   \n",
       "\n",
       "item_id   2963344   2963601   2963850   2964470   2965009   2965924   2966087  \n",
       "item_id                                                                        \n",
       "123373   0.116882  0.039445  0.133218  0.151984  0.060291  0.102984  0.170247  \n",
       "123793   0.118367  0.031789  0.124774  0.135332  0.062114  0.094801  0.177672  \n",
       "124204   0.144895  0.038251  0.129289  0.160755  0.063575  0.089681  0.127207  \n",
       "124553   0.154095  0.058190  0.154087  0.185648  0.061639  0.114007  0.143805  \n",
       "125424   0.152510  0.054273  0.152740  0.182974  0.061219  0.120921  0.140214  \n",
       "\n",
       "[5 rows x 5850 columns]"
      ]
     },
     "execution_count": 13,
     "metadata": {},
     "output_type": "execute_result"
    }
   ],
   "source": [
    "tf_idf = TfidfVectorizer()\n",
    "tf_idf_matrix = tf_idf.fit_transform(agg_item_text[\"item_review_text\"])\n",
    "item_tfidf_similarity = cosine_similarity(tf_idf_matrix, tf_idf_matrix)\n",
    "item_tfidf_similarity_df = pd.DataFrame(item_tfidf_similarity, columns=agg_item_text.index, index=agg_item_text.index)\n",
    "\n",
    "# Create item-item similarity matrix usig td-idf\n",
    "item_tfidf_similarity_df.head()"
   ]
  },
  {
   "cell_type": "code",
   "execution_count": 14,
   "metadata": {},
   "outputs": [],
   "source": [
    "def evaluation(recommendations, user):\n",
    "    # Get records of user from test data which has same user id as passed in the argument\n",
    "    user_pref = clothing_test[clothing_test.user_id.isin([user])]\n",
    "    #print(user_pref)\n",
    "    # Get items from user test pref and check which items matches with calculated top 50 items using test data\n",
    "    items_in_50 = user_pref[user_pref.item_id.isin(recommendations.item_id)]\n",
    "    #print(items_in_50)\n",
    "    \n",
    "    # 'accuratelyCal_in50' is used for how many accurately calculated items out of top 50 similar ones \n",
    "    # Recall: (Total correctly predicted) / (total true positive + total false negative)\n",
    "    recallCal = {\"user_id\": user,\n",
    "                   \"ratings_count\": len(user_pref),\n",
    "                   \"accuratelyCal_in50\": len(items_in_50[items_in_50.class_rating == 1]),\n",
    "                   \"recall_in50\": len(items_in_50[items_in_50.class_rating == 1]) / len(user_pref)}\n",
    "                    \n",
    "    return recallCal\n",
    "# evaluatio = pd.DataFrame()"
   ]
  },
  {
   "cell_type": "code",
   "execution_count": 15,
   "metadata": {},
   "outputs": [
    {
     "data": {
      "text/plain": [
       "{'user_id': 2927,\n",
       " 'ratings_count': 3,\n",
       " 'accuratelyCal_in50': 1,\n",
       " 'recall_in50': 0.3333333333333333}"
      ]
     },
     "execution_count": 15,
     "metadata": {},
     "output_type": "execute_result"
    }
   ],
   "source": [
    "def tfidf_contentRecSys(id):\n",
    "    \n",
    "    # Get record of user from train data which has same user id as passed in the argument\n",
    "    top_train_user_item = clothing_train[clothing_train.user_id == id][:1]\n",
    "    # print(top_train_user_item)\n",
    "    # To get item id corresponding to above record\n",
    "    top_train_user_item = int(top_train_user_item.item_id)\n",
    "    # print(top_train_user_item)\n",
    "    # To compute all the similar items corresponding to above record's item\n",
    "    item_similarities = item_tfidf_similarity_df[[top_train_user_item]].sort_values([top_train_user_item], ascending=False)\n",
    "    # print(item_similarities)\n",
    "    # Take top 50 simialr items\n",
    "    top_50 = item_similarities.iloc[1:51]\n",
    "    # print(top_50)\n",
    "    top_50.reset_index(inplace=True)\n",
    "    # print(top_50)               \n",
    "    return recommender_test_eval(recommendations = top_50, user = id)\n",
    "\n",
    "\n",
    "\n",
    "test_user = 2927 \n",
    "tfidf_contentRecSys(test_user)"
   ]
  },
  {
   "cell_type": "code",
   "execution_count": 22,
   "metadata": {},
   "outputs": [
    {
     "data": {
      "text/plain": [
       "{'user_id': 998563,\n",
       " 'ratings_count': 3,\n",
       " 'accuratelyCal_in50': 1,\n",
       " 'recall_in50': 0.3333333333333333}"
      ]
     },
     "execution_count": 22,
     "metadata": {},
     "output_type": "execute_result"
    }
   ],
   "source": [
    "test_user = 998563\n",
    "tfidf_contentRecSys(test_user)"
   ]
  },
  {
   "cell_type": "code",
   "execution_count": 26,
   "metadata": {},
   "outputs": [
    {
     "data": {
      "text/plain": [
       "{'user_id': 991757,\n",
       " 'ratings_count': 2,\n",
       " 'accuratelyCal_in50': 1,\n",
       " 'recall_in50': 0.5}"
      ]
     },
     "execution_count": 26,
     "metadata": {},
     "output_type": "execute_result"
    }
   ],
   "source": [
    "test_user = 991757\n",
    "tfidf_contentRecSys(test_user)"
   ]
  },
  {
   "cell_type": "code",
   "execution_count": null,
   "metadata": {},
   "outputs": [],
   "source": []
  }
 ],
 "metadata": {
  "kernelspec": {
   "display_name": "Python 3",
   "language": "python",
   "name": "python3"
  },
  "language_info": {
   "codemirror_mode": {
    "name": "ipython",
    "version": 3
   },
   "file_extension": ".py",
   "mimetype": "text/x-python",
   "name": "python",
   "nbconvert_exporter": "python",
   "pygments_lexer": "ipython3",
   "version": "3.8.5"
  }
 },
 "nbformat": 4,
 "nbformat_minor": 4
}
